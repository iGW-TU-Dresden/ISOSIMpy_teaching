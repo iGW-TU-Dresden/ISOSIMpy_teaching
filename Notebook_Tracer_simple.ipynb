{
 "cells": [
  {
   "cell_type": "markdown",
   "id": "566eb799-dd26-4def-9c8e-fa8917efdd19",
   "metadata": {
    "tags": []
   },
   "source": [
    "# Example 1 - Application of LPMs for Data of a Single Tracer\n",
    "\n",
    "* **General goal**:\n",
    "    * application of LPMs for modelling tracers in an observation well\n",
    "    * getting familiar with different LPM approaches\n",
    "    * fitting LPM parameter values to get optimal simulation results\n",
    "* Starting from three time series data sets:\n",
    "    * precipitation measurements\n",
    "    * tracer concentration in precipitation\n",
    "    * tracer concentration in observation well\n",
    "    \n",
    "- **Steps**:\n",
    "    1. data import and data pre-processing\n",
    "    2. data visualization\n",
    "    3. model setup\n",
    "    4. running the model\n",
    "    \n",
    "**Note: if you are unfamiliar with the `ISOSIMpy` package, do not manipulate any code in this notebook!**"
   ]
  },
  {
   "cell_type": "markdown",
   "id": "7ca45fb4-3515-42e4-b2f5-a4e021ac15af",
   "metadata": {},
   "source": [
    "### Step 1: Data Import"
   ]
  },
  {
   "cell_type": "markdown",
   "id": "7462adfa-5c43-4e58-b4ae-0ce3377f7e24",
   "metadata": {
    "tags": []
   },
   "source": [
    "#### 1.1 Setting the Plotting Environment"
   ]
  },
  {
   "cell_type": "markdown",
   "id": "f553978e-4a92-4cd6-ba00-bd733a3a9a77",
   "metadata": {},
   "source": [
    "&rarr; Setting the plotting environment (`widget` for dynamic plots, `inline` for static plots)"
   ]
  },
  {
   "cell_type": "code",
   "execution_count": 173,
   "id": "3843d07f-e863-4fef-a695-621ae23761f5",
   "metadata": {
    "jupyter": {
     "source_hidden": true
    },
    "tags": []
   },
   "outputs": [],
   "source": [
    "%matplotlib inline"
   ]
  },
  {
   "cell_type": "markdown",
   "id": "4cf06d3f-4c75-40c0-9d1c-35395e250251",
   "metadata": {
    "tags": []
   },
   "source": [
    "#### 1.2 Importing Packages"
   ]
  },
  {
   "cell_type": "markdown",
   "id": "63bfcfae-33c6-4d32-ac14-d8d2a3df9b62",
   "metadata": {},
   "source": [
    "&rarr; Importing packages"
   ]
  },
  {
   "cell_type": "code",
   "execution_count": 174,
   "id": "0976b045",
   "metadata": {
    "jupyter": {
     "source_hidden": true
    },
    "tags": []
   },
   "outputs": [],
   "source": [
    "import io\n",
    "from ipyfilechooser import FileChooser\n",
    "import matplotlib.pyplot as plt\n",
    "import numpy as np\n",
    "from ipywidgets import *\n",
    "from matplotlib.gridspec import GridSpec\n",
    "import matplotlib.ticker\n",
    "from Pre import *\n",
    "from Post import *\n",
    "from Calculate import *\n",
    "from datetime import datetime"
   ]
  },
  {
   "cell_type": "markdown",
   "id": "5d483388-0020-4efc-8cb8-b98deff2ac3b",
   "metadata": {
    "tags": []
   },
   "source": [
    "#### 1.3 Selecting Relevant Files"
   ]
  },
  {
   "cell_type": "markdown",
   "id": "cda1978b-6443-4d78-b5de-1216ad6c1c8d",
   "metadata": {},
   "source": [
    "&rarr; Select files with relevant data\n",
    "1. Precipitation and source concantration file\n",
    "2. Observation well concentration file"
   ]
  },
  {
   "cell_type": "code",
   "execution_count": 175,
   "id": "56bb0b7c",
   "metadata": {
    "jupyter": {
     "source_hidden": true
    },
    "tags": []
   },
   "outputs": [
    {
     "name": "stdout",
     "output_type": "stream",
     "text": [
      "Select your time series of precipitation and concentration input file:\n"
     ]
    },
    {
     "data": {
      "application/vnd.jupyter.widget-view+json": {
       "model_id": "438ff424b00a4d4cb93d66726886ffb4",
       "version_major": 2,
       "version_minor": 0
      },
      "text/plain": [
       "FileChooser(path='C:\\Users\\MRudolph\\Documents\\GitHub_TUD\\ISOSIMpy', filename='', title='', show_hidden=False, …"
      ]
     },
     "metadata": {},
     "output_type": "display_data"
    }
   ],
   "source": [
    "print('Select your time series of precipitation and concentration input file:')\n",
    "fc_c = FileChooser('')\n",
    "display(fc_c)"
   ]
  },
  {
   "cell_type": "code",
   "execution_count": 176,
   "id": "f1b23332",
   "metadata": {
    "jupyter": {
     "source_hidden": true
    },
    "tags": []
   },
   "outputs": [
    {
     "name": "stdout",
     "output_type": "stream",
     "text": [
      "Select your sample concentrations input file:\n"
     ]
    },
    {
     "data": {
      "application/vnd.jupyter.widget-view+json": {
       "model_id": "849a3076f348487ebc8f22107b7cbc51",
       "version_major": 2,
       "version_minor": 0
      },
      "text/plain": [
       "FileChooser(path='C:\\Users\\MRudolph\\Documents\\GitHub_TUD\\ISOSIMpy', filename='', title='', show_hidden=False, …"
      ]
     },
     "metadata": {},
     "output_type": "display_data"
    }
   ],
   "source": [
    "print('Select your sample concentrations input file:')\n",
    "fc_s = FileChooser('')\n",
    "display(fc_s)"
   ]
  },
  {
   "cell_type": "markdown",
   "id": "f4a689f1-44e0-41a1-97e8-0241010bf2ca",
   "metadata": {
    "tags": []
   },
   "source": [
    "#### 1.4 Importing and Pre-Processing Data"
   ]
  },
  {
   "cell_type": "markdown",
   "id": "dbd7ae5c-32e4-4a9e-bce1-1be93b6cc98b",
   "metadata": {},
   "source": [
    "&rarr; Import and initially pre-process data (set date / time etc.)"
   ]
  },
  {
   "cell_type": "code",
   "execution_count": 187,
   "id": "92a30c1a",
   "metadata": {
    "jupyter": {
     "source_hidden": true
    },
    "tags": []
   },
   "outputs": [],
   "source": [
    "try:\n",
    "    rain = Pre.convertTimeC(pd.read_csv(fc_c.selected, sep=';', header=None))\n",
    "    sample = Pre.convertTimeS(pd.read_csv(fc_s.selected, sep=';', header=None))\n",
    "except:\n",
    "    print('An error occured!')    "
   ]
  },
  {
   "cell_type": "markdown",
   "id": "d34e3d34-5543-442d-b236-4fbfd46a731e",
   "metadata": {},
   "source": [
    "&rarr; Data pre-processing\n",
    "1. Check for negative / zero data points and handle them\n",
    "2. Perform volume-weighting of concentration in precipitation"
   ]
  },
  {
   "cell_type": "code",
   "execution_count": 188,
   "id": "4424e6c9",
   "metadata": {
    "jupyter": {
     "source_hidden": true
    },
    "tags": []
   },
   "outputs": [],
   "source": [
    "# check for negative / zero values in the data\n",
    "rain = Pre.checkZero(rain)"
   ]
  },
  {
   "cell_type": "code",
   "execution_count": 189,
   "id": "988db3d4",
   "metadata": {
    "jupyter": {
     "source_hidden": true
    },
    "tags": []
   },
   "outputs": [],
   "source": [
    "# add column for precipitation-weighted concentration\n",
    "rain = Pre.weightVolumes(rain)"
   ]
  },
  {
   "cell_type": "markdown",
   "id": "e92b2d48-3f0f-4d3f-8407-39adfc8c07e4",
   "metadata": {},
   "source": [
    "### Step 2: Data Visualization"
   ]
  },
  {
   "cell_type": "markdown",
   "id": "249575bd-faaf-4671-92bb-e124d3c23695",
   "metadata": {},
   "source": [
    "#### 2.0 Tracer Names"
   ]
  },
  {
   "cell_type": "markdown",
   "id": "f063bcb3-43d4-42a3-b6b2-59741fd253c9",
   "metadata": {},
   "source": [
    "&rarr; Enter the names of your tracer here"
   ]
  },
  {
   "cell_type": "code",
   "execution_count": 190,
   "id": "38f61b27-332b-4df7-af8d-99602de47c62",
   "metadata": {},
   "outputs": [],
   "source": [
    "name_tracer_1 = \"MyTracer1\""
   ]
  },
  {
   "cell_type": "markdown",
   "id": "a7407b1c-68f1-4ce9-856c-eb204e489863",
   "metadata": {},
   "source": [
    "#### 2.1 Plotting Source and Observed Concentration Data"
   ]
  },
  {
   "cell_type": "markdown",
   "id": "eea10e3b-9dd1-4a81-bc59-ffdc630d9071",
   "metadata": {},
   "source": [
    "&rarr; Plotting data in two separate plots"
   ]
  },
  {
   "cell_type": "code",
   "execution_count": 191,
   "id": "31094b3e",
   "metadata": {
    "jupyter": {
     "source_hidden": true
    },
    "tags": []
   },
   "outputs": [
    {
     "name": "stdout",
     "output_type": "stream",
     "text": [
      "Here you can see your input data and the sample values\n"
     ]
    },
    {
     "data": {
      "image/png": "[encoded data removed]",
      "text/plain": [
       "<Figure size 800x500 with 2 Axes>"
      ]
     },
     "metadata": {},
     "output_type": "display_data"
    }
   ],
   "source": [
    "print('Here you can see your input data and the sample values')\n",
    "sample_vis = sample.drop(sample[sample[3] == 0].index)\n",
    "fig, [ax1, ax2] = plt.subplots(nrows=2, ncols=1, figsize=(8, 5), constrained_layout=True, sharex=True)\n",
    "\n",
    "ax1.plot(rain['Date'], rain[3], label='Obs. %s' % name_tracer_1, color='green')\n",
    "ax1.plot(sample_vis['Date'], sample_vis[1], visible=False)\n",
    "ax1.legend()\n",
    "ax2.scatter(sample_vis['Date'], sample_vis[1], label='Obs. %s' % name_tracer_1, marker='x', zorder=5, c=\"red\")\n",
    "ax2.legend()\n",
    "ax1.set_title(\"Tracer Input\", fontsize=16)\n",
    "ax1.set_ylabel('$c_{tracer}$ [-]', fontsize=14)\n",
    "ax1.set_ylim(0)\n",
    "\n",
    "ax2.set_title(\"Tracer Output\", fontsize=16)\n",
    "ax2.set_ylabel('$c_{tracer}$ [-]', fontsize=14)\n",
    "ax2.set_xlabel('Time', fontsize=14)\n",
    "ax2.set_ylim(0)\n",
    "ax1.grid(zorder=0)\n",
    "ax2.grid(zorder=0)"
   ]
  },
  {
   "cell_type": "markdown",
   "id": "f3d72de2-3fef-4eb6-8df0-b06fe3042d9f",
   "metadata": {},
   "source": [
    "### Step 3: Model Setup"
   ]
  },
  {
   "cell_type": "markdown",
   "id": "e2278cf7-19e0-4b0c-b9f4-73c223a20d04",
   "metadata": {
    "tags": []
   },
   "source": [
    "#### 3.1 Parameterization"
   ]
  },
  {
   "cell_type": "markdown",
   "id": "f148a45b-1436-4155-9dd5-1c64fa4bef77",
   "metadata": {},
   "source": [
    "&rarr; Instatiating the parameterization object (`ISOSIMpy.Par()`)"
   ]
  },
  {
   "cell_type": "code",
   "execution_count": 192,
   "id": "50bc0889-317d-4842-9a4b-5912bc5dc186",
   "metadata": {
    "jupyter": {
     "source_hidden": true
    },
    "tags": []
   },
   "outputs": [],
   "source": [
    "# instantiate / initialize the parameterization object\n",
    "Par()\n",
    "\n",
    "# set initial run / model number\n",
    "Par.n = 0\n",
    "\n",
    "# set monthly step (i.e., decay constant is divided by 12 and mean TT is multiplied by 12)\n",
    "Par.step = 0"
   ]
  },
  {
   "cell_type": "markdown",
   "id": "c4a410d5-dac2-42c7-bdcb-154a1bcb221d",
   "metadata": {},
   "source": [
    "#### 3.2 Specifying the Vadose Zone Representation"
   ]
  },
  {
   "cell_type": "markdown",
   "id": "e4ba7524-f905-432b-94b7-37d0871de399",
   "metadata": {},
   "source": [
    "&rarr; Specifying the vadose zone representation (as given by the `Par.SOILM` attribute of the parameterization object)"
   ]
  },
  {
   "cell_type": "code",
   "execution_count": 193,
   "id": "a5a22492",
   "metadata": {
    "jupyter": {
     "source_hidden": true
    },
    "tags": []
   },
   "outputs": [
    {
     "name": "stdout",
     "output_type": "stream",
     "text": [
      "This is not integrated as a dynamic parameter. Set value once and do not change.\n",
      "Calculation in the vadose zone:\n"
     ]
    },
    {
     "data": {
      "application/vnd.jupyter.widget-view+json": {
       "model_id": "2f21d12e80e94735896265bae718144d",
       "version_major": 2,
       "version_minor": 0
      },
      "text/plain": [
       "interactive(children=(RadioButtons(description='Calculation in the vadose zone:', layout=Layout(width='max-con…"
      ]
     },
     "metadata": {},
     "output_type": "display_data"
    },
    {
     "data": {
      "text/plain": [
       "<function __main__.setVadoseZone(vadose_zone)>"
      ]
     },
     "execution_count": 193,
     "metadata": {},
     "output_type": "execute_result"
    }
   ],
   "source": [
    "print('This is not integrated as a dynamic parameter. Set value once and do not change.')\n",
    "print('Calculation in the vadose zone:')\n",
    "\n",
    "# set the vadose zone parameter (specifying the vadose tone representation / handling)\n",
    "def setVadoseZone(vadose_zone):\n",
    "    if vadose_zone == 'No calculation':\n",
    "        Par.SOILM = 0\n",
    "    elif vadose_zone == 'Calculation based on monthly factor':\n",
    "        print('To use this functionality, you must implement it manually')\n",
    "        # Par.SOILM = 1\n",
    "    elif vadose_zone == 'Calculation based on hydrologic model':\n",
    "        # Par.SOILM = 2\n",
    "        print('To use this functionality, you must implement it manually')\n",
    "interact(setVadoseZone, vadose_zone = widgets.RadioButtons(options=['No calculation',\n",
    "                                       'Calculation based on monthly factor [NOT IMPLEMENTED]',\n",
    "                                       'Calculation based on hydrologic model [NOT IMPLEMENTED]'],\n",
    "                              layout={'width': 'max-content'},\n",
    "                              description='Calculation in the vadose zone:',\n",
    "        style={'description_width': 'initial'}))"
   ]
  },
  {
   "cell_type": "markdown",
   "id": "a7bd5288-a97f-4451-b528-37fce366b0e7",
   "metadata": {},
   "source": [
    "&rarr; Handling recharge (here, the recharge water tracer concentration is set to the tracer concentration of precipitation water)"
   ]
  },
  {
   "cell_type": "code",
   "execution_count": 194,
   "id": "6f8d9e34",
   "metadata": {
    "jupyter": {
     "source_hidden": true
    },
    "tags": []
   },
   "outputs": [
    {
     "name": "stdout",
     "output_type": "stream",
     "text": [
      "The tracer concentration in recharge water is assumed to be equal to the concentration in precipitation water.\n"
     ]
    }
   ],
   "source": [
    "if Par.SOILM == 0:\n",
    "    print('The tracer concentration in recharge water is assumed to be equal to the concentration in precipitation water.')\n",
    "    Cin = rain['weighted_c']\n",
    "elif Par.SOILM == 1:\n",
    "    pass\n",
    "elif Par.SOILM == 2:\n",
    "    pass"
   ]
  },
  {
   "cell_type": "markdown",
   "id": "0c5a5594-de19-48f4-ac7d-823bba5b49b6",
   "metadata": {},
   "source": [
    "&rarr; Giving the user feedback on the state of the model setup"
   ]
  },
  {
   "cell_type": "code",
   "execution_count": 195,
   "id": "9b4a8629",
   "metadata": {
    "jupyter": {
     "source_hidden": true
    },
    "scrolled": true,
    "tags": []
   },
   "outputs": [
    {
     "name": "stdout",
     "output_type": "stream",
     "text": [
      "\n",
      "All basic settings are now made.     \n",
      "The settings that are now still necessary must be selected once at the beginning for the first model run.     \n",
      "You then have the possibility to change the parameter combination and compare different variants.\n",
      "\n"
     ]
    }
   ],
   "source": [
    "print(\n",
    "    '\\nAll basic settings are now made.\\\n",
    "     \\nThe settings that are now still necessary must be selected once at the beginning for the first model run.\\\n",
    "     \\nYou then have the possibility to change the parameter combination and compare different variants.\\n'\n",
    ")"
   ]
  },
  {
   "cell_type": "markdown",
   "id": "379fb041-5505-4f1a-a664-9c8ef531673d",
   "metadata": {},
   "source": [
    "#### 3.3 Setting Model Parameters"
   ]
  },
  {
   "cell_type": "markdown",
   "id": "d48a7793-69b3-4817-a0ad-e6a0c8c1d252",
   "metadata": {},
   "source": [
    "&rarr; Specifying model parameter values to run the model with"
   ]
  },
  {
   "cell_type": "code",
   "execution_count": 196,
   "id": "6b76da87",
   "metadata": {
    "tags": []
   },
   "outputs": [
    {
     "name": "stdout",
     "output_type": "stream",
     "text": [
      "Model type and parameter values:\n"
     ]
    },
    {
     "data": {
      "application/vnd.jupyter.widget-view+json": {
       "model_id": "9b264ccaeb5d4a499792fc7ba9dea26f",
       "version_major": 2,
       "version_minor": 0
      },
      "text/plain": [
       "interactive(children=(RadioButtons(description='Modeltype:', layout=Layout(width='max-content'), options=('Pis…"
      ]
     },
     "metadata": {},
     "output_type": "display_data"
    },
    {
     "data": {
      "text/plain": [
       "<function __main__.setParameters(model, mean_tt, half_time, pd, eta)>"
      ]
     },
     "execution_count": 196,
     "metadata": {},
     "output_type": "execute_result"
    }
   ],
   "source": [
    "print('Model type and parameter values:')\n",
    "def setParameters(model, mean_tt, half_time, pd, eta):\n",
    "    if model == 'Piston Flow Model (MTT, HL)':\n",
    "        Par.MODNUM = 1\n",
    "    elif model == 'Exponential Model (MTT, HL)':\n",
    "        Par.MODNUM = 2\n",
    "    elif model == 'Dispersion Model (MTT, HL, PD)':\n",
    "        Par.MODNUM = 3\n",
    "    elif model == 'Linear Model (MTT, HL)':\n",
    "        Par.MODNUM = 4\n",
    "    elif model == 'Exponential - Piston Flow Model (MTT, HL, PD, E)':\n",
    "        Par.MODNUM = 5\n",
    "    Par.TT = mean_tt\n",
    "    Par.Thalf_1 = half_time\n",
    "    Par.PD = pd\n",
    "    Par.eta = eta\n",
    "interact(setParameters,\n",
    "    model = widgets.RadioButtons(options=['Piston Flow Model (MTT, HL)',\n",
    "                                       'Exponential Model (MTT, HL)',\n",
    "                                       'Dispersion Model (MTT, HL, PD)',\n",
    "                                       'Linear Model (MTT, HL)',\n",
    "                                       'Exponential - Piston Flow Model (MTT, HL, PD, E)'],\n",
    "                              layout={'width': 'max-content'},\n",
    "                              description='Modeltype:',\n",
    "        style={'description_width': 'initial'}),\n",
    "    mean_tt = widgets.BoundedIntText(value=10, min=1, max=100, step=1,\n",
    "                                     description='Mean Travel Time (MTT) [a]:',\n",
    "                                    style={'description_width': 'initial'}),\n",
    "    half_time = widgets.BoundedFloatText(value=10, min=1, max=100, step=0.001,\n",
    "                                         description='Half Life (HL) [a]:',\n",
    "                                        style={'description_width': 'initial'}),\n",
    "    pd = widgets.BoundedFloatText(value=0.1, min=0.01, max=1000, step=0.01,\n",
    "                             description='Dispersion Parameter (PD) [-]:',\n",
    "                                 style={'description_width': 'initial'}),\n",
    "    eta = widgets.BoundedFloatText(value=0.5, min=0.01, max=1, step=0.01,\n",
    "                             description='Exp. Flow Fraction (E) [-]:',\n",
    "                                  style={'description_width': 'initial'}))"
   ]
  },
  {
   "cell_type": "markdown",
   "id": "a0658a0c-105b-4579-b43b-e5ebfdce57b5",
   "metadata": {},
   "source": [
    "### Step 4: Running the Model\n",
    "- **Note**: if you re-run the model multiple times, you can save some time:\n",
    "    1. specify the parameters above\n",
    "    2. select this cell here\n",
    "    3. in the toolbar above, select `Run` &rarr; `Run Selected Cell and All Below`"
   ]
  },
  {
   "cell_type": "markdown",
   "id": "5aa801a2-499b-439d-b618-0552122bdac7",
   "metadata": {},
   "source": [
    "#### 4.1 Running the model"
   ]
  },
  {
   "cell_type": "markdown",
   "id": "c9e38879-66ae-4e93-93da-43005abcd9d4",
   "metadata": {},
   "source": [
    "&rarr; Running the model with the parameterization object, input concentration data and precipitation data"
   ]
  },
  {
   "cell_type": "code",
   "execution_count": 252,
   "id": "e32bf5f8-dded-4133-8174-0752eead3e08",
   "metadata": {
    "jupyter": {
     "source_hidden": true
    },
    "tags": []
   },
   "outputs": [],
   "source": [
    "# increase model (run) number by 1\n",
    "Par.n += 1\n",
    "\n",
    "# obtain the result\n",
    "result = Tracer(Par, Cin, rain)"
   ]
  },
  {
   "cell_type": "markdown",
   "id": "febe061c-66d9-473b-884e-ce85d69294df",
   "metadata": {},
   "source": [
    "#### 4.2 Calculating Fit Metrics"
   ]
  },
  {
   "cell_type": "markdown",
   "id": "60536f41-150e-4ee7-ab38-bfd2bec748e4",
   "metadata": {},
   "source": [
    "&rarr; Calculate $ MSE $ and $ R^2 $ for the simulation"
   ]
  },
  {
   "cell_type": "code",
   "execution_count": 253,
   "id": "b0b0693c-58ba-411f-9a4c-21523b668b5b",
   "metadata": {
    "jupyter": {
     "source_hidden": true
    },
    "tags": []
   },
   "outputs": [
    {
     "name": "stdout",
     "output_type": "stream",
     "text": [
      "The R^2 is 1.000 and the MSE is 1.362, based on 2 out of 22 possible values\n",
      "The R^2 is 0.937 and the MSE is 2131.690, based on all values (linear interpolation)\n"
     ]
    }
   ],
   "source": [
    "\"\"\" use only directly available values \"\"\"\n",
    "\n",
    "# get the number of available observations\n",
    "orig_length = len(sample_vis[1])\n",
    "\n",
    "# make pandas Series (a time series) from model results\n",
    "results_series = pd.Series(data=result.result, index=rain['Date'])\n",
    "\n",
    "# get model results at dates which are available from the observations\n",
    "results_filtered = results_series.filter(items=sample_vis['Date'].dt.round(\"d\"))\n",
    "\n",
    "# set the index of the observations Series to be the Date column\n",
    "sample_ = sample_vis.set_index(['Date'])\n",
    "\n",
    "# get observations at dates which are available from the (already reduced / truncated) model results\n",
    "sample_ = sample_.loc[results_filtered.index]\n",
    "\n",
    "# compute the correlation matrix for results and observations and select the cross-correlation\n",
    "corr = np.corrcoef(x=sample_.iloc[:, 1], y=results_filtered[:])[0, 1]\n",
    "# calculate the R^2\n",
    "rsq = corr ** 2.\n",
    "\n",
    "# calculate the MSE\n",
    "mse = np.sum((sample_.iloc[:, 1] - results_filtered.values) ** 2.) / len(results_filtered[:])\n",
    "\n",
    "# print the results\n",
    "print(\"The R^2 is {:1.3f} and the MSE is {:1.3f}, based on {} out of {} possible values\".format(rsq, mse, len(results_filtered[:]), orig_length))\n",
    "\n",
    "\"\"\" use interpolation (interpolating results to observation dates) \"\"\"\n",
    "\n",
    "# make pandas Series (a time series) from model results\n",
    "results_series = pd.Series(data=result.result, index=rain['Date'])\n",
    "# force an index with daily frequency and interpolate\n",
    "# NOTE: this is necessary as ISOSIMpy only returns results at the first of each month\n",
    "#     but observations are available at other times / days so we need to have those observation\n",
    "#     dates in the index as well\n",
    "results_series = results_series.reindex(pd.date_range(start=results_series.index[0], end=results_series.index[-1], freq=\"D\")).interpolate()\n",
    "# truncate the resulting series to start at the first observation date and to end at the\n",
    "#     last obervation date (at latest)\n",
    "results_series = results_series.truncate(before=sample_vis['Date'].iloc[0], after=sample_vis['Date'].iloc[-1])\n",
    "# drop remaining NaN values\n",
    "results_series = results_series.reindex(sample_vis['Date']).dropna()\n",
    "\n",
    "# set the index of the observation data to be the date column and truncate to the date-range\n",
    "#     of the results\n",
    "sample_ = sample_vis.set_index(['Date'])\n",
    "sample_ = sample_.truncate(before=results_series.index[0], after=results_series.index[-1])\n",
    "\n",
    "# compute the correlation matrix for results and observations and select the cross-correlation\n",
    "corr = np.corrcoef(x=sample_.iloc[:, 1].values, y=results_series.iloc[:].values)[0, 1]\n",
    "# calculate the R^2\n",
    "rsq = corr ** 2.\n",
    "\n",
    "# calculate the MSE\n",
    "mse = np.sum((sample_.iloc[:, 1].values - results_series.iloc[:].values) ** 2.) / len(results_series[:])\n",
    "\n",
    "# print the results\n",
    "print(\"The R^2 is {:1.3f} and the MSE is {:1.3f}, based on all values (linear interpolation)\".format(rsq, mse))"
   ]
  },
  {
   "cell_type": "markdown",
   "id": "b858d39c-87b2-4084-9e55-dba3a3fdbaef",
   "metadata": {},
   "source": [
    "#### 4.3 Exporting Model Specifications and Model Reults\n",
    "- model settings / parameter values are written to a `log.txt`-file\n",
    "- model results are written to a `results_{}.csv`-file, where the model run number is used instead of the curly brackets"
   ]
  },
  {
   "cell_type": "markdown",
   "id": "cb95cede-faa0-4cad-990b-1494a4d441a2",
   "metadata": {},
   "source": [
    "&rarr; Write to log-file"
   ]
  },
  {
   "cell_type": "code",
   "execution_count": 254,
   "id": "cbe48ff4-462c-405d-9f75-362af7d99dd9",
   "metadata": {
    "jupyter": {
     "source_hidden": true
    },
    "tags": []
   },
   "outputs": [],
   "source": [
    "with open(r'model_output/log.txt', 'a') as f:\n",
    "    f.write(str(datetime.now()))\n",
    "    f.write(';' + str(Par.n))\n",
    "    f.write(';' + str(Par.MODNUM))\n",
    "    f.write(';' + str(Par.TT))\n",
    "    f.write(';' + str(Par.Thalf_1))\n",
    "    f.write(';' + str(Par.PD))\n",
    "    f.write(';' + str(Par.eta))\n",
    "    f.write('\\n')"
   ]
  },
  {
   "cell_type": "markdown",
   "id": "8ecf8adc-d512-4a1c-bcd0-3bc296eb7755",
   "metadata": {},
   "source": [
    "&rarr; Write results file"
   ]
  },
  {
   "cell_type": "code",
   "execution_count": 255,
   "id": "fcbbb349-5ecf-43ce-a7c5-a5f2f673e441",
   "metadata": {
    "jupyter": {
     "source_hidden": true
    },
    "tags": []
   },
   "outputs": [],
   "source": [
    "results_series.to_csv(r'model_output/results_{}.csv'.format(Par.n), sep=';')"
   ]
  },
  {
   "cell_type": "markdown",
   "id": "47b95ada-385f-4c97-a8d7-e2e77805a2c8",
   "metadata": {},
   "source": [
    "#### 4.4 Plotting Model Results"
   ]
  },
  {
   "cell_type": "markdown",
   "id": "03e06a17-1cad-44fd-931f-3e7459b8013b",
   "metadata": {},
   "source": [
    "&rarr; Plotting model results (the modelled tracer concentration in the observation well)"
   ]
  },
  {
   "cell_type": "code",
   "execution_count": 256,
   "id": "020d94fa-c83f-46bc-9f25-1b414a697bde",
   "metadata": {
    "jupyter": {
     "source_hidden": true
    },
    "tags": []
   },
   "outputs": [
    {
     "name": "stdout",
     "output_type": "stream",
     "text": [
      "Here you can see your input data and the simulation results\n"
     ]
    },
    {
     "data": {
      "image/png": "[encoded data removed]",
      "text/plain": [
       "<Figure size 800x300 with 1 Axes>"
      ]
     },
     "metadata": {},
     "output_type": "display_data"
    },
    {
     "data": {
      "image/png": "[encoded data removed]",
      "text/plain": [
       "<Figure size 800x300 with 1 Axes>"
      ]
     },
     "metadata": {},
     "output_type": "display_data"
    }
   ],
   "source": [
    "print('Here you can see your input data and the simulation results')\n",
    "sample_vis = sample.drop(sample[sample[3] == 0].index)\n",
    "fig3, ax3 = plt.subplots(nrows=1, ncols=1, figsize=(8, 3), constrained_layout=True)\n",
    "ax3.plot(rain['Date'], rain[3], label='Input %s' % name_tracer_1, color='green')\n",
    "ax3.axvline(rain.iloc[np.argmax(rain[3]), 4], ls=\"--\", c=\"black\")\n",
    "ax3.legend()\n",
    "ax3.grid(zorder=0)\n",
    "ax3.tick_params(axis='x', which='minor', bottom=False)\n",
    "ax3.set(title='Observed Tracer Source Concentration (Max. at {})'.format(rain.iloc[np.argmax(rain[3]), 4]),\n",
    "        ylabel='$c$ [-]',\n",
    "        xlabel='t',\n",
    "        ylim=(1e-1, 1e4),\n",
    "        xlim=(pd.to_datetime(\"1950-01-01\"), pd.to_datetime(\"2022-01-01\")),\n",
    "        yscale=\"log\")\n",
    "\n",
    "fig4, ax4 = plt.subplots(nrows=1, ncols=1, figsize=(8, 3), constrained_layout=True)\n",
    "ax4.scatter(sample_vis['Date'], sample_vis[1], label='Output %s' % name_tracer_1, marker='x', zorder=5, c=\"red\")\n",
    "ax4.plot(rain['Date'], result.result, label='Run Nr. {}, $R^2$={:1.2f}'.format(Par.n, rsq))\n",
    "ax4.axvline(rain.iloc[np.argmax(result.result), 4], ls=\"--\", c=\"black\")\n",
    "ax4.legend()\n",
    "ax4.grid(zorder=0)\n",
    "ax4.set(title='Observed and Simulated Tracer Output Conc. (Max. at {})'.format(rain.iloc[np.argmax(result.result), 4]),\n",
    "        ylabel='$c$ [-]',\n",
    "        xlabel='t',\n",
    "        ylim=(1e-1, 1e4),\n",
    "        xlim=(pd.to_datetime(\"1950-01-01\"), pd.to_datetime(\"2022-01-01\")),\n",
    "        yscale=\"log\")\n",
    "\n",
    "# save figure\n",
    "# model mtt hl pd eta\n",
    "plt.savefig(\"model_run_{}_{}_{}_{}_{}.png\".format(Par.MODNUM, Par.TT, Par.Thalf_1, Par.PD, Par.eta), dpi=400)"
   ]
  },
  {
   "cell_type": "markdown",
   "id": "6406d888-9959-439e-af3b-b9f568dae23c",
   "metadata": {},
   "source": [
    "&rarr; Plotting the Source Concentration and all Previous Modelling Results from the Current Session"
   ]
  },
  {
   "cell_type": "raw",
   "id": "089f784c-0123-4c26-a318-f55ed250383c",
   "metadata": {
    "tags": []
   },
   "source": [
    "# overview over all modelling results from the current session\n",
    "ax2.plot(rain['Date'], result.result, label='Run Nr. {}, $R^2$={:1.2f}'.format(Par.n, rsq))\n",
    "ax2.legend()\n",
    "ax2.set_ylim(0, result.result.max() * 1.1)\n",
    "# ax2.set_ylim(0, 150)\n",
    "fig.set_size_inches(8, 6)\n",
    "fig"
   ]
  },
  {
   "cell_type": "code",
   "execution_count": null,
   "id": "d4c98694-67e7-4210-9634-a1bfcbe88cc8",
   "metadata": {},
   "outputs": [],
   "source": []
  }
 ],
 "metadata": {
  "kernelspec": {
   "display_name": "Python 3 (ipykernel)",
   "language": "python",
   "name": "python3"
  },
  "language_info": {
   "codemirror_mode": {
    "name": "ipython",
    "version": 3
   },
   "file_extension": ".py",
   "mimetype": "text/x-python",
   "name": "python",
   "nbconvert_exporter": "python",
   "pygments_lexer": "ipython3",
   "version": "3.10.8"
  }
 },
 "nbformat": 4,
 "nbformat_minor": 5
}
