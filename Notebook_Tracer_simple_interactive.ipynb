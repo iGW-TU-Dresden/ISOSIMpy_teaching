{
 "cells": [
  {
   "cell_type": "markdown",
   "id": "566eb799-dd26-4def-9c8e-fa8917efdd19",
   "metadata": {
    "tags": []
   },
   "source": [
    "# Example 1 - Application of LPMs for Data of a Single Tracer\n",
    "\n",
    "* **General goal**:\n",
    "    * application of LPMs for modelling tracers in an observation well\n",
    "    * getting familiar with different LPM approaches\n",
    "    * fitting LPM parameter values to get optimal simulation results\n",
    "* Starting from three time series data sets:\n",
    "    * precipitation measurements\n",
    "    * tracer concentration in precipitation\n",
    "    * tracer concentration in observation well\n",
    "    \n",
    "- **Steps**:\n",
    "    1. data import and data pre-processing\n",
    "    2. data visualization\n",
    "    3. model setup\n",
    "    4. running the model\n",
    "    \n",
    "**Note: if you are unfamiliar with the `ISOSIMpy` package, do not manipulate any code in this notebook!**"
   ]
  },
  {
   "cell_type": "markdown",
   "id": "7ca45fb4-3515-42e4-b2f5-a4e021ac15af",
   "metadata": {},
   "source": [
    "### Step 1: Data Import"
   ]
  },
  {
   "cell_type": "markdown",
   "id": "7462adfa-5c43-4e58-b4ae-0ce3377f7e24",
   "metadata": {
    "tags": []
   },
   "source": [
    "#### 1.1 Setting the Plotting Environment and importing packages"
   ]
  },
  {
   "cell_type": "markdown",
   "id": "f553978e-4a92-4cd6-ba00-bd733a3a9a77",
   "metadata": {},
   "source": [
    "&rarr; Setting the plotting environment (`widget` for dynamic plots, `inline` for static plots)"
   ]
  },
  {
   "cell_type": "code",
   "execution_count": 1,
   "id": "3843d07f-e863-4fef-a695-621ae23761f5",
   "metadata": {
    "jupyter": {
     "source_hidden": true
    },
    "tags": []
   },
   "outputs": [],
   "source": [
    "%matplotlib inline\n",
    "import io\n",
    "from ipyfilechooser import FileChooser\n",
    "import matplotlib.pyplot as plt\n",
    "import numpy as np\n",
    "from ipywidgets import *\n",
    "from matplotlib.gridspec import GridSpec\n",
    "import matplotlib.ticker\n",
    "from Pre import *\n",
    "from Post import *\n",
    "from Calculate import *\n",
    "from datetime import datetime"
   ]
  },
  {
   "cell_type": "markdown",
   "id": "5d483388-0020-4efc-8cb8-b98deff2ac3b",
   "metadata": {
    "tags": []
   },
   "source": [
    "#### 1.2 Selecting Relevant Files"
   ]
  },
  {
   "cell_type": "markdown",
   "id": "cda1978b-6443-4d78-b5de-1216ad6c1c8d",
   "metadata": {},
   "source": [
    "&rarr; Select files with relevant data\n",
    "1. Precipitation and source concantration file\n",
    "    - in directory name \"precipitation\"\n",
    "2. Observation well concentration file\n",
    "    - in directory name \"groundwater_samples\""
   ]
  },
  {
   "cell_type": "code",
   "execution_count": 8,
   "id": "eafde0f0-3b95-4d00-b874-ffc596e714b5",
   "metadata": {
    "tags": []
   },
   "outputs": [
    {
     "data": {
      "application/vnd.jupyter.widget-view+json": {
       "model_id": "df314664ae2e4beead56e2c8d27b9dd3",
       "version_major": 2,
       "version_minor": 0
      },
      "text/plain": [
       "FileChooser(path='C:\\Users\\MRudolph\\Documents\\GitHub_TUD\\ISOSIMpy\\model_input\\precipitation', filename='', tit…"
      ]
     },
     "metadata": {},
     "output_type": "display_data"
    },
    {
     "data": {
      "application/vnd.jupyter.widget-view+json": {
       "model_id": "afd2a5e06a5d4a198dcd76fd4fc4e10d",
       "version_major": 2,
       "version_minor": 0
      },
      "text/plain": [
       "FileChooser(path='C:\\Users\\MRudolph\\Documents\\GitHub_TUD\\ISOSIMpy\\model_input\\groundwater_samples', filename='…"
      ]
     },
     "metadata": {},
     "output_type": "display_data"
    }
   ],
   "source": [
    "fc_c = FileChooser(\n",
    "    os.path.join(os.getcwd(), \"model_input\", \"precipitation\"),\n",
    "    filename='',\n",
    "    title='<b>Select your time series file of precipitation and tracer concentration:</b>'\n",
    ")\n",
    "\n",
    "display(fc_c)\n",
    "\n",
    "fc_s = FileChooser(\n",
    "    os.path.join(os.getcwd(), \"model_input\", \"groundwater_samples\"),\n",
    "    filename='',\n",
    "    title='<b>Select your file of tracer concentration samples in groundwater:</b>'\n",
    ")\n",
    "\n",
    "display(fc_s)"
   ]
  },
  {
   "cell_type": "markdown",
   "id": "f4a689f1-44e0-41a1-97e8-0241010bf2ca",
   "metadata": {
    "tags": []
   },
   "source": [
    "#### 1.3 Importing and Pre-Processing Data"
   ]
  },
  {
   "cell_type": "markdown",
   "id": "dbd7ae5c-32e4-4a9e-bce1-1be93b6cc98b",
   "metadata": {},
   "source": [
    "&rarr; Import and pre-process data"
   ]
  },
  {
   "cell_type": "code",
   "execution_count": 3,
   "id": "92a30c1a",
   "metadata": {
    "jupyter": {
     "source_hidden": true
    },
    "tags": []
   },
   "outputs": [],
   "source": [
    "try:\n",
    "    rain = Pre.convertTimeC(pd.read_csv(fc_c.selected, sep=';', header=None))\n",
    "    sample = Pre.convertTimeS(pd.read_csv(fc_s.selected, sep=';', header=None))\n",
    "except:\n",
    "    print('An error occured!')\n",
    "    \n",
    "# check for negative / zero values in the data\n",
    "rain = Pre.checkZero(rain)\n",
    "\n",
    "# add column for precipitation-weighted concentration\n",
    "rain = Pre.weightVolumes(rain)"
   ]
  },
  {
   "cell_type": "markdown",
   "id": "e92b2d48-3f0f-4d3f-8407-39adfc8c07e4",
   "metadata": {},
   "source": [
    "### Step 2: Data Visualization"
   ]
  },
  {
   "cell_type": "markdown",
   "id": "249575bd-faaf-4671-92bb-e124d3c23695",
   "metadata": {},
   "source": [
    "#### 2.1 Tracer Names"
   ]
  },
  {
   "cell_type": "markdown",
   "id": "f063bcb3-43d4-42a3-b6b2-59741fd253c9",
   "metadata": {},
   "source": [
    "&rarr; Enter the names of your tracer here"
   ]
  },
  {
   "cell_type": "code",
   "execution_count": 4,
   "id": "38f61b27-332b-4df7-af8d-99602de47c62",
   "metadata": {},
   "outputs": [],
   "source": [
    "name_tracer_1 = \"MyTracer1\""
   ]
  },
  {
   "cell_type": "markdown",
   "id": "a7407b1c-68f1-4ce9-856c-eb204e489863",
   "metadata": {},
   "source": [
    "#### 2.2 Plotting Source and Observed Concentration Data"
   ]
  },
  {
   "cell_type": "markdown",
   "id": "eea10e3b-9dd1-4a81-bc59-ffdc630d9071",
   "metadata": {},
   "source": [
    "&rarr; Plotting data in two separate plots"
   ]
  },
  {
   "cell_type": "code",
   "execution_count": 5,
   "id": "31094b3e",
   "metadata": {
    "jupyter": {
     "source_hidden": true
    },
    "tags": []
   },
   "outputs": [
    {
     "name": "stdout",
     "output_type": "stream",
     "text": [
      "Here you can see your input data and the sample values\n"
     ]
    },
    {
     "data": {
      "image/png": "[encoded data removed]",
      "text/plain": [
       "<Figure size 800x500 with 2 Axes>"
      ]
     },
     "metadata": {},
     "output_type": "display_data"
    }
   ],
   "source": [
    "print('Here you can see your input data and the sample values')\n",
    "sample_vis = sample.drop(sample[sample[3] == 0].index)\n",
    "fig, [ax1, ax2] = plt.subplots(nrows=2, ncols=1, figsize=(8, 5), constrained_layout=True, sharex=True)\n",
    "\n",
    "ax1.plot(rain['Date'], rain[3], label='Obs. %s' % name_tracer_1, color='green')\n",
    "ax1.plot(sample_vis['Date'], sample_vis[1], visible=False)\n",
    "ax1.legend()\n",
    "ax2.scatter(sample_vis['Date'], sample_vis[1], label='Obs. %s' % name_tracer_1, marker='x', zorder=5, c=\"red\")\n",
    "ax2.legend()\n",
    "ax1.set_title(\"Tracer Input\", fontsize=16)\n",
    "ax1.set_ylabel('$c_{tracer}$ [-]', fontsize=14)\n",
    "ax1.set_ylim(0)\n",
    "\n",
    "ax2.set_title(\"Tracer Output\", fontsize=16)\n",
    "ax2.set_ylabel('$c_{tracer}$ [-]', fontsize=14)\n",
    "ax2.set_xlabel('Time', fontsize=14)\n",
    "ax2.set_ylim(0)\n",
    "ax1.grid(zorder=0)\n",
    "ax2.grid(zorder=0)"
   ]
  },
  {
   "cell_type": "markdown",
   "id": "f3d72de2-3fef-4eb6-8df0-b06fe3042d9f",
   "metadata": {},
   "source": [
    "### Step 3: Model Setup\n",
    "\n",
    "This is all done in the background..."
   ]
  },
  {
   "cell_type": "code",
   "execution_count": 6,
   "id": "50bc0889-317d-4842-9a4b-5912bc5dc186",
   "metadata": {
    "tags": []
   },
   "outputs": [
    {
     "name": "stdout",
     "output_type": "stream",
     "text": [
      "The tracer concentration in recharge water is assumed to be equal to the concentration in precipitation water.\n"
     ]
    }
   ],
   "source": [
    "# instantiate / initialize the parameterization object\n",
    "Par()\n",
    "\n",
    "# set initial run / model number\n",
    "Par.n = 0\n",
    "\n",
    "# set monthly step (i.e., decay constant is divided by 12 and mean TT is multiplied by 12)\n",
    "Par.step = 0\n",
    "\n",
    "# set option to NOT include the vadose zone (other option not yet implemented)\n",
    "Par.SOILM = 0\n",
    "\n",
    "# handle recharge according to Par.SOILM\n",
    "if Par.SOILM == 0:\n",
    "    print('The tracer concentration in recharge water is assumed to be equal to the concentration in precipitation water.')\n",
    "    Cin = rain['weighted_c']\n",
    "elif Par.SOILM == 1:\n",
    "    pass\n",
    "elif Par.SOILM == 2:\n",
    "    pass"
   ]
  },
  {
   "cell_type": "markdown",
   "id": "379fb041-5505-4f1a-a664-9c8ef531673d",
   "metadata": {},
   "source": [
    "### Step 4: Setting Model Parameters, Running the Model, and Plotting the Results\n",
    "\n",
    "You will see two `     Run Interact     `-buttons below.\n",
    "\n",
    "You have to **press the <u>upper button</u> to run the model** with the current parameter values.\n",
    "\n",
    "You have to **press the <u>lower button</u> to plot the results** with the current plotting settings.\n",
    "\n",
    "If you want to update anything (model parameters / plotting settings), you have to press the corresponding button for the changes to take effect!\n",
    "___\n",
    "___"
   ]
  },
  {
   "cell_type": "code",
   "execution_count": 7,
   "id": "099843e6-0b43-4d28-a6f0-d5695d3c948c",
   "metadata": {
    "tags": []
   },
   "outputs": [
    {
     "name": "stdout",
     "output_type": "stream",
     "text": [
      "Model type and parameter values:\n"
     ]
    },
    {
     "data": {
      "application/vnd.jupyter.widget-view+json": {
       "model_id": "d14b58af08da4ed2a3f3e9ce8e7b5899",
       "version_major": 2,
       "version_minor": 0
      },
      "text/plain": [
       "interactive(children=(RadioButtons(description='Modeltype:', layout=Layout(width='max-content'), options=('Pis…"
      ]
     },
     "metadata": {},
     "output_type": "display_data"
    },
    {
     "name": "stdout",
     "output_type": "stream",
     "text": [
      "\n",
      "\n"
     ]
    },
    {
     "data": {
      "application/vnd.jupyter.widget-view+json": {
       "model_id": "5527ee38d44d4c0e8711de8432de4a44",
       "version_major": 2,
       "version_minor": 0
      },
      "text/plain": [
       "interactive(children=(BoundedIntText(value=1950, description='First Year to Show', max=2022, min=1950, style=D…"
      ]
     },
     "metadata": {},
     "output_type": "display_data"
    },
    {
     "data": {
      "text/plain": [
       "<function __main__.plot_results(min_year, max_year, min_conc, max_conc, log_scale)>"
      ]
     },
     "execution_count": 7,
     "metadata": {},
     "output_type": "execute_result"
    }
   ],
   "source": [
    "print('Model type and parameter values:')\n",
    "def setParameters(model, mean_tt, half_time, pd_, eta):\n",
    "    if model == 'Piston Flow Model (MTT, HL)':\n",
    "        Par.MODNUM = 1\n",
    "    elif model == 'Exponential Model (MTT, HL)':\n",
    "        Par.MODNUM = 2\n",
    "    elif model == 'Dispersion Model (MTT, HL, PD)':\n",
    "        Par.MODNUM = 3\n",
    "    elif model == 'Linear Model (MTT, HL)':\n",
    "        Par.MODNUM = 4\n",
    "    elif model == 'Exponential - Piston Flow Model (MTT, HL, PD, E)':\n",
    "        Par.MODNUM = 5\n",
    "    Par.TT = mean_tt\n",
    "    Par.Thalf_1 = half_time\n",
    "    Par.PD = pd_\n",
    "    Par.eta = eta\n",
    "    \n",
    "    \"\"\" run model \"\"\"\n",
    "    \n",
    "    # define global variables for results and rsq\n",
    "    global result\n",
    "    global rsq\n",
    "\n",
    "    # increase model (run) number by 1\n",
    "    Par.n += 1\n",
    "    \n",
    "    # obtain the result\n",
    "    result = Tracer(Par, Cin, rain)\n",
    "    \n",
    "    \"\"\" calculate fit metrics \"\"\"\n",
    "    \n",
    "    ## use only available data\n",
    "    \n",
    "    # get the number of available observations\n",
    "    orig_length = len(sample_vis[1])\n",
    "    \n",
    "    # make pandas Series (a time series) from model results\n",
    "    results_series = pd.Series(data=result.result, index=rain['Date'])\n",
    "    \n",
    "    # get model results at dates which are available from the observations\n",
    "    results_filtered = results_series.filter(items=sample_vis['Date'].dt.round(\"d\"))\n",
    "    \n",
    "    # set the index of the observations Series to be the Date column\n",
    "    sample_ = sample_vis.set_index(['Date'])\n",
    "    \n",
    "    # get observations at dates which are available from the (already reduced / truncated) model results\n",
    "    sample_ = sample_.loc[results_filtered.index]\n",
    "    \n",
    "    # compute the correlation matrix for results and observations and select the cross-correlation\n",
    "    corr = np.corrcoef(x=sample_.iloc[:, 1], y=results_filtered[:])[0, 1]\n",
    "    # calculate the R^2\n",
    "    rsq = corr ** 2.\n",
    "    \n",
    "    # calculate the MSE\n",
    "    mse = np.sum((sample_.iloc[:, 1] - results_filtered.values) ** 2.) / len(results_filtered[:])\n",
    "    \n",
    "    # print the results\n",
    "    print(\"The R^2 is {:1.3f} and the MSE is {:1.3f}, based on {} out of {} possible values\".format(rsq, mse, len(results_filtered[:]), orig_length))\n",
    "    \n",
    "    ## use interpolation (interpolating results to observation dates)\n",
    "    \n",
    "    # make pandas Series (a time series) from model results\n",
    "    results_series = pd.Series(data=result.result, index=rain['Date'])\n",
    "    # force an index with daily frequency and interpolate\n",
    "    # NOTE: this is necessary as ISOSIMpy only returns results at the first of each month\n",
    "    #     but observations are available at other times / days so we need to have those observation\n",
    "    #     dates in the index as well\n",
    "    results_series = results_series.reindex(pd.date_range(start=results_series.index[0], end=results_series.index[-1], freq=\"D\")).interpolate()\n",
    "    # truncate the resulting series to start at the first observation date and to end at the\n",
    "    #     last obervation date (at latest)\n",
    "    results_series = results_series.truncate(before=sample_vis['Date'].iloc[0], after=sample_vis['Date'].iloc[-1])\n",
    "    # drop remaining NaN values\n",
    "    results_series = results_series.reindex(sample_vis['Date']).dropna()\n",
    "    \n",
    "    # set the index of the observation data to be the date column and truncate to the date-range\n",
    "    #     of the results\n",
    "    sample_ = sample_vis.set_index(['Date'])\n",
    "    sample_ = sample_.truncate(before=results_series.index[0], after=results_series.index[-1])\n",
    "    \n",
    "    # compute the correlation matrix for results and observations and select the cross-correlation\n",
    "    corr = np.corrcoef(x=sample_.iloc[:, 1].values, y=results_series.iloc[:].values)[0, 1]\n",
    "    # calculate the R^2\n",
    "    rsq = corr ** 2.\n",
    "    \n",
    "    # calculate the MSE\n",
    "    mse = np.sum((sample_.iloc[:, 1].values - results_series.iloc[:].values) ** 2.) / len(results_series[:])\n",
    "    \n",
    "    # print the results\n",
    "    print(\"The R^2 is {:1.3f} and the MSE is {:1.3f}, based on all values (linear interpolation)\".format(rsq, mse))\n",
    "    \n",
    "    print(\"\\n\\nThe following line does not mean anything...\")\n",
    "    \n",
    "    \"\"\" write log \"\"\"\n",
    "    \n",
    "    with open(r'model_output/log.txt', 'a') as f:\n",
    "        f.write(str(datetime.now()))\n",
    "        f.write(';' + str(Par.n))\n",
    "        f.write(';' + str(Par.MODNUM))\n",
    "        f.write(';' + str(Par.TT))\n",
    "        f.write(';' + str(Par.Thalf_1))\n",
    "        f.write(';' + str(Par.PD))\n",
    "        f.write(';' + str(Par.eta))\n",
    "        f.write(';' + str(\"{:1.2f}\".format(rsq)))\n",
    "        f.write(';' + \"    # date / time; run index; model type index; mean TT; half life; dispersion; exp. flow fraction\")\n",
    "        f.write('\\n')\n",
    "        \n",
    "    \"\"\" write results \"\"\"\n",
    "    \n",
    "    results_series.to_csv(r'model_output/results_{}.csv'.format(Par.n), sep=';')\n",
    "    \n",
    "    return result, rsq\n",
    "    \n",
    "def plot_results(min_year, max_year, min_conc, max_conc, log_scale):\n",
    "    print('Here you can see your input data and the simulation results')\n",
    "    sample_vis = sample.drop(sample[sample[3] == 0].index)\n",
    "    fig3, ax3 = plt.subplots(nrows=1, ncols=1, figsize=(8, 3), constrained_layout=True)\n",
    "    ax3.plot(rain['Date'], rain[3], label='Input %s' % name_tracer_1, color='green')\n",
    "    ax3.axvline(rain.iloc[np.argmax(rain[3]), 4], ls=\"--\", c=\"black\")\n",
    "    ax3.legend()\n",
    "    ax3.grid(zorder=0)\n",
    "    ax3.tick_params(axis='x', which='minor', bottom=False)\n",
    "    \n",
    "    if log_scale == True:\n",
    "        scale_ = \"log\"\n",
    "    else:\n",
    "        scale_ = \"linear\"\n",
    "    \n",
    "    ax3.set(title='Observed Tracer Source Concentration (Max. at {})'.format(rain.iloc[np.argmax(rain[3]), 4]),\n",
    "            ylabel='$c$ [-]',\n",
    "            xlabel='t',\n",
    "            ylim=(min_conc, max_conc),\n",
    "            xlim=(pd.to_datetime(\"{}-01-01\".format(int(min_year))), pd.to_datetime(\"{}-01-01\".format(int(max_year)))),\n",
    "            yscale=scale_)\n",
    "    \n",
    "    fig4, ax4 = plt.subplots(nrows=1, ncols=1, figsize=(8, 3), constrained_layout=True)\n",
    "    ax4.scatter(sample_vis['Date'], sample_vis[1], label='Output %s' % name_tracer_1, marker='x', zorder=5, c=\"red\")\n",
    "    ax4.plot(rain['Date'], result.result, label='Run Nr. {}, $R^2$={:1.2f}'.format(Par.n, rsq))\n",
    "    ax4.axvline(rain.iloc[np.argmax(result.result), 4], ls=\"--\", c=\"black\")\n",
    "    ax4.legend()\n",
    "    ax4.grid(zorder=0)\n",
    "    ax4.set(title='Observed and Simulated Tracer Output Conc. (Max. at {})'.format(rain.iloc[np.argmax(result.result), 4]),\n",
    "            ylabel='$c$ [-]',\n",
    "            xlabel='t',\n",
    "            ylim=(min_conc, max_conc),\n",
    "            xlim=(pd.to_datetime(\"{}-01-01\".format(int(min_year))), pd.to_datetime(\"{}-12-31\".format(int(max_year)))),\n",
    "            yscale=scale_)\n",
    "    \n",
    "    # save figure\n",
    "    # model mtt hl pd eta\n",
    "    plt.savefig(\"model_run_{}_{}_{}_{}_{}.png\".format(Par.MODNUM, Par.TT, Par.Thalf_1, Par.PD, Par.eta), dpi=400)\n",
    "    \n",
    "    return\n",
    "    \n",
    "interact_manual(setParameters,\n",
    "    model = widgets.RadioButtons(options=['Piston Flow Model (MTT, HL)',\n",
    "                                       'Exponential Model (MTT, HL)',\n",
    "                                       'Dispersion Model (MTT, HL, PD)',\n",
    "                                       'Linear Model (MTT, HL)',\n",
    "                                       'Exponential - Piston Flow Model (MTT, HL, PD, E)'],\n",
    "                              layout={'width': 'max-content'},\n",
    "                              description='Modeltype:',\n",
    "        style={'description_width': 'initial'}),\n",
    "    mean_tt = widgets.BoundedIntText(value=10, min=1, max=100, step=1,\n",
    "                                     description='Mean Travel Time (MTT) [a]:',\n",
    "                                    style={'description_width': 'initial'}),\n",
    "    half_time = widgets.BoundedFloatText(value=10, min=1, max=100, step=0.001,\n",
    "                                         description='Half Life (HL) [a]:',\n",
    "                                        style={'description_width': 'initial'}),\n",
    "    pd_ = widgets.BoundedFloatText(value=0.1, min=0.01, max=1000, step=0.01,\n",
    "                             description='Dispersion Parameter (PD) [-]:',\n",
    "                                 style={'description_width': 'initial'}),\n",
    "    eta = widgets.BoundedFloatText(value=0.5, min=0.01, max=1, step=0.01,\n",
    "                             description='Exp. Flow Fraction (E) [-]:',\n",
    "                                  style={'description_width': 'initial'}))\n",
    "\n",
    "print(\"\\n\")\n",
    "\n",
    "interact_manual(\n",
    "    plot_results,\n",
    "    min_year=widgets.BoundedIntText(\n",
    "        value=1950,\n",
    "        min=1950,\n",
    "        max=2022,\n",
    "        step=1,\n",
    "        description=\"First Year to Show\",\n",
    "        style={'description_width': 'initial'}\n",
    "    ),\n",
    "    max_year=widgets.BoundedIntText(\n",
    "        value=2023,\n",
    "        min=1951,\n",
    "        max=2023,\n",
    "        step=1,\n",
    "        description=\"Last Year to Show\",\n",
    "        style={'description_width': 'initial'}\n",
    "    ),\n",
    "    min_conc=widgets.BoundedFloatText(\n",
    "        value=1e-1,\n",
    "        min=1e-4,\n",
    "        max=1e4,\n",
    "        step=1e-4,\n",
    "        description=\"Minimum Concentration to Show\",\n",
    "        style={'description_width': 'initial'}\n",
    "    ),\n",
    "    max_conc=widgets.BoundedFloatText(\n",
    "        value=1e4,\n",
    "        min=1e-4,\n",
    "        max=1e4,\n",
    "        step=1e-4,\n",
    "        description=\"Maximum Concentration to Show\",\n",
    "        style={'description_width': 'initial'}\n",
    "    ),\n",
    "    log_scale=widgets.Dropdown(\n",
    "        options=[('Logarithmic', True), ('Linear', False)],\n",
    "        value=True,\n",
    "        description='y-Axis Scale:',\n",
    "    )\n",
    ")"
   ]
  },
  {
   "cell_type": "code",
   "execution_count": null,
   "id": "bebbe5a3-adf9-46a7-a9f2-fe68d58ee556",
   "metadata": {},
   "outputs": [],
   "source": []
  }
 ],
 "metadata": {
  "kernelspec": {
   "display_name": "Python 3 (ipykernel)",
   "language": "python",
   "name": "python3"
  },
  "language_info": {
   "codemirror_mode": {
    "name": "ipython",
    "version": 3
   },
   "file_extension": ".py",
   "mimetype": "text/x-python",
   "name": "python",
   "nbconvert_exporter": "python",
   "pygments_lexer": "ipython3",
   "version": "3.10.8"
  }
 },
 "nbformat": 4,
 "nbformat_minor": 5
}
